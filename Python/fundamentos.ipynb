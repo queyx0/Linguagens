{
 "cells": [
  {
   "cell_type": "markdown",
   "metadata": {},
   "source": [
    "# Fundamentos básicos para trabalhar com Python"
   ]
  },
  {
   "cell_type": "markdown",
   "metadata": {},
   "source": [
    "#### Lista de objetos\n",
    "##### lista = [obj1, obj2, obj3]"
   ]
  },
  {
   "cell_type": "code",
   "execution_count": 10,
   "metadata": {},
   "outputs": [],
   "source": [
    "produtos = ['abc123', 'Abc123', 'ABc123', 'ABC123']\n",
    "\n",
    "texto = 'abc123'"
   ]
  },
  {
   "cell_type": "markdown",
   "metadata": {},
   "source": [
    "### Como usar uma function\n",
    "#### def nome_da_funcao(arg): \n",
    "##### Utilizando uma function para deixar as letras de \"texto\" maiusculas"
   ]
  },
  {
   "cell_type": "code",
   "execution_count": null,
   "metadata": {},
   "outputs": [],
   "source": [
    "def tratar_texto(texto):\n",
    "    texto = texto.upper()\n",
    "    texto = texto.strip()\n",
    "    return texto\n",
    "\n",
    "texto = tratar_texto(texto)\n",
    "print(texto)"
   ]
  },
  {
   "cell_type": "markdown",
   "metadata": {},
   "source": [
    "### Como usar um laço FOR/IN\n",
    "#### for i, objs in enumerate(lista):\n",
    "##### Utilizando para deixar as letras de todos os objetos da lista \"produtos\" maiusculas"
   ]
  },
  {
   "cell_type": "code",
   "execution_count": null,
   "metadata": {},
   "outputs": [],
   "source": [
    "for i, produto in enumerate(produtos):\n",
    "    produtos[i] = tratar_texto(produto)\n",
    "\n",
    "print(produtos)"
   ]
  }
 ],
 "metadata": {
  "kernelspec": {
   "display_name": "Python 3.10.5 64-bit",
   "language": "python",
   "name": "python3"
  },
  "language_info": {
   "codemirror_mode": {
    "name": "ipython",
    "version": 3
   },
   "file_extension": ".py",
   "mimetype": "text/x-python",
   "name": "python",
   "nbconvert_exporter": "python",
   "pygments_lexer": "ipython3",
   "version": "3.10.5"
  },
  "orig_nbformat": 4,
  "vscode": {
   "interpreter": {
    "hash": "686f36e0ee8180f660a917104ca3d2973d523d8f7247557eb6e6b71a088067da"
   }
  }
 },
 "nbformat": 4,
 "nbformat_minor": 2
}
