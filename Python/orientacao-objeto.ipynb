{
 "cells": [
  {
   "cell_type": "markdown",
   "metadata": {},
   "source": [
    "# ORIENTAÇÃO OBJETO"
   ]
  },
  {
   "cell_type": "markdown",
   "metadata": {},
   "source": [
    "## Exemplo\n",
    "#### Criando uma classe para clientes da Netflix"
   ]
  },
  {
   "cell_type": "code",
   "execution_count": 7,
   "metadata": {},
   "outputs": [
    {
     "name": "stdout",
     "output_type": "stream",
     "text": [
      "basic\n",
      "Faça upgrade de plano para ver o filme\n",
      "premium\n",
      "Ver filme Harry Potter\n"
     ]
    }
   ],
   "source": [
    "class Clientes:\n",
    "    def __init__(self, nome, email, plano):\n",
    "        self.nome = nome\n",
    "        self.email = email\n",
    "        self.lista_planos = [\"basic\", \"premium\"]\n",
    "        if plano in self.lista_planos:\n",
    "            self.plano = plano\n",
    "        else:\n",
    "            raise Exception(\"Plano Inavalido\")\n",
    "\n",
    "    def mudar_plano(self, novo_plano):\n",
    "        if novo_plano in self.lista_planos:\n",
    "            self.plano = novo_plano\n",
    "        else:\n",
    "            print(\"Plano Inválido\")\n",
    "\n",
    "\n",
    "    def ver_filme(self, filme, plano_filme):\n",
    "        if self.plano == plano_filme:\n",
    "            print(f\"Ver filme {filme}\")\n",
    "        elif self.plano == \"premium\":\n",
    "            print(f\"Ver filme {filme}\")\n",
    "        elif self.plano == \"basic\" and plano_filme == \"premium\":\n",
    "            print(\"Faça upgrade de plano para ver o filme\")\n",
    "        else:\n",
    "            print(\"Plano Inválido\")\n",
    "\n",
    "\n",
    "\n",
    "\n",
    "cliente = Clientes(\"Antonio\", \"tonyeg2020@gmail.com\", \"basic\")\n",
    "print(cliente.plano)\n",
    "cliente.ver_filme(\"Harry Potter\", \"premium\")\n",
    "\n",
    "# botão de alterar plano\n",
    "cliente.mudar_plano(\"premium\")\n",
    "print(cliente.plano)\n",
    "cliente.ver_filme(\"Harry Potter\", \"premium\")"
   ]
  }
 ],
 "metadata": {
  "kernelspec": {
   "display_name": "Python 3.10.5 64-bit",
   "language": "python",
   "name": "python3"
  },
  "language_info": {
   "codemirror_mode": {
    "name": "ipython",
    "version": 3
   },
   "file_extension": ".py",
   "mimetype": "text/x-python",
   "name": "python",
   "nbconvert_exporter": "python",
   "pygments_lexer": "ipython3",
   "version": "3.10.5"
  },
  "orig_nbformat": 4,
  "vscode": {
   "interpreter": {
    "hash": "686f36e0ee8180f660a917104ca3d2973d523d8f7247557eb6e6b71a088067da"
   }
  }
 },
 "nbformat": 4,
 "nbformat_minor": 2
}
