{
 "cells": [
  {
   "cell_type": "markdown",
   "metadata": {},
   "source": [
    "# STRINGS NO PYTHON\n",
    "\n",
    "#####\n",
    "#####\n"
   ]
  },
  {
   "cell_type": "raw",
   "metadata": {},
   "source": [
    "t o n y @ g m a i l .  c  o  m\n",
    "0 1 2 3 4 5 6 7 8 9 10 11 12 13"
   ]
  },
  {
   "cell_type": "code",
   "execution_count": 15,
   "metadata": {},
   "outputs": [
    {
     "name": "stdout",
     "output_type": "stream",
     "text": [
      "10\n"
     ]
    }
   ],
   "source": [
    "# Lugar para testes dos métodos\n",
    "texto = 'tony@gmail.com'\n",
    "\n",
    "print(texto.find('.'))"
   ]
  },
  {
   "cell_type": "markdown",
   "metadata": {},
   "source": [
    "##### Métodos\n",
    "- len() -> Calcula o tamanho do texto (quantidade de caracteres)\n",
    "- capitalize() -> Coloca a 1ª letra Maiúscula\n",
    "- casefold() -> Transforma todas as letras em minúsculas (existe lower() mas o casefold é melhor normalmente)\n",
    "- count()\t-> Quantidade de vezes que um valor aparece na string\n",
    "- endswith() -> Verifica se o texto termina com um valor específico e dá como resposta True ou False\n",
    "- find('') -> Procura um texto dentro de outro texto e dá como resposta a posição do texto encontrado\n",
    "- format() -> Formata uma string de acordo com os valores passados\n",
    "  \n",
    "  *(print('O restuldado da nota1={}.O resultado da nota2={}.Logo, o resultado da média é de:{}'.format(nota1,nota2,media)))*\n",
    "- isalnum() -> Verifica se um texto é todo feito com caracteres alfanuméricos (letras e números) -> letras com acento ou ç são considerados letras para essa função.\n",
    "- isalpha() -> Verifica se um texto é todo feito de letras.\n",
    "- isnumeric()\t-> Verifica se um texto é todo feito por números.\n",
    "- replace(x, y, z) -> Substitui um texto por um outro texto em uma string. x= o que colocar y= qual letra trocar z= quais ocorrencias\n",
    "- split()\t-> Separa uma string de acordo com um delimitador em vários textos diferentes.\n",
    "- splitlines() -> separa um texto em vários textos de acordo com os \"enters\" do texto\n",
    "- startswith() -> Verifica se a string começa com determinado texto\n",
    "- strip()\t-> Retira caracteres indesejados dos textos. Por padrão, retira espaços \"extras\" no início e no final\n",
    "- title() -> Coloca a 1ª letra de cada palavra em maiúscula\n",
    "- upper()\t-> Coloca o texto todo em letra maiúscula"
   ]
  }
 ],
 "metadata": {
  "kernelspec": {
   "display_name": "Python 3.10.5 64-bit",
   "language": "python",
   "name": "python3"
  },
  "language_info": {
   "codemirror_mode": {
    "name": "ipython",
    "version": 3
   },
   "file_extension": ".py",
   "mimetype": "text/x-python",
   "name": "python",
   "nbconvert_exporter": "python",
   "pygments_lexer": "ipython3",
   "version": "3.10.5"
  },
  "orig_nbformat": 4,
  "vscode": {
   "interpreter": {
    "hash": "686f36e0ee8180f660a917104ca3d2973d523d8f7247557eb6e6b71a088067da"
   }
  }
 },
 "nbformat": 4,
 "nbformat_minor": 2
}
