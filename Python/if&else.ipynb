{
 "cells": [
  {
   "cell_type": "markdown",
   "metadata": {},
   "source": [
    "# Estruturas condicionais (IF/ELSE)"
   ]
  },
  {
   "cell_type": "markdown",
   "metadata": {},
   "source": [
    "## IF"
   ]
  },
  {
   "cell_type": "code",
   "execution_count": 3,
   "metadata": {},
   "outputs": [
    {
     "name": "stdout",
     "output_type": "stream",
     "text": [
      "É Antonio\n",
      "Está fora do if\n"
     ]
    }
   ],
   "source": [
    "#if CRÍTERIO QUE QUERO TESTAR:\n",
    "#   ação 1\n",
    "#   ação 2\n",
    "#   ação 3\n",
    "\n",
    "# acão fora da identação\n",
    "\n",
    "nome = 'Antonio'\n",
    "\n",
    "if nome == 'Antonio':\n",
    "    print('É Antonio')\n",
    "\n",
    "print('Está fora do if')"
   ]
  },
  {
   "cell_type": "markdown",
   "metadata": {},
   "source": [
    "## Operadores lógicos"
   ]
  },
  {
   "cell_type": "code",
   "execution_count": 16,
   "metadata": {},
   "outputs": [],
   "source": [
    "variavel1 = 'Antonio'\n",
    "variavel2 = 23\n",
    "lista = ['Antonio', 'Eduardo', 'Garcia', 'Moreira']\n",
    "\n",
    "#Testes\n",
    "if variavel1 is True:\n",
    "    print('Sim')"
   ]
  },
  {
   "cell_type": "markdown",
   "metadata": {},
   "source": [
    "## ELSE"
   ]
  },
  {
   "cell_type": "code",
   "execution_count": 20,
   "metadata": {},
   "outputs": [
    {
     "name": "stdout",
     "output_type": "stream",
     "text": [
      "Não, não é o Moreira\n"
     ]
    }
   ],
   "source": [
    "if variavel1 == 'Moreira':\n",
    "    print('Sim é o Moreira')\n",
    "else:\n",
    "    print('Não, não é o Moreira')"
   ]
  },
  {
   "cell_type": "markdown",
   "metadata": {},
   "source": [
    "## ELIF"
   ]
  },
  {
   "cell_type": "code",
   "execution_count": 19,
   "metadata": {},
   "outputs": [
    {
     "name": "stdout",
     "output_type": "stream",
     "text": [
      "Exatamente, Antonio\n"
     ]
    }
   ],
   "source": [
    "if variavel1 == 'Moreira':\n",
    "    print('Sim')\n",
    "\n",
    "elif variavel1 == 'Garcia':\n",
    "    print('Igual a garcia')\n",
    "\n",
    "elif variavel1 == 'Antonio':\n",
    "    print('Exatamente, Antonio')\n",
    "    \n",
    "else:\n",
    "    print('Não sabemos o nome')"
   ]
  },
  {
   "cell_type": "markdown",
   "metadata": {},
   "source": [
    "## IF COM FOR"
   ]
  },
  {
   "cell_type": "code",
   "execution_count": 22,
   "metadata": {},
   "outputs": [
    {
     "name": "stdout",
     "output_type": "stream",
     "text": [
      "É o Antonio\n",
      "Não é o Antonio nem o Garcia\n",
      "É o Garcia\n",
      "Não é o Antonio nem o Garcia\n"
     ]
    }
   ],
   "source": [
    "lista = ['Antonio', 'Eduardo', 'Garcia', 'Moreira']\n",
    "\n",
    "for nome in lista:\n",
    "    if nome == 'Antonio':\n",
    "        print('É o Antonio')\n",
    "    elif nome == 'Garcia':\n",
    "        print('É o Garcia')\n",
    "    else:\n",
    "        print('Não é o Antonio nem o Garcia')"
   ]
  },
  {
   "cell_type": "markdown",
   "metadata": {},
   "source": [
    "## Criando uma condição para manutenção"
   ]
  },
  {
   "cell_type": "code",
   "execution_count": 31,
   "metadata": {},
   "outputs": [
    {
     "name": "stdout",
     "output_type": "stream",
     "text": [
      "Ordem 20010102 - Manutenção Preventiva\n",
      "Ordem 3030304050 - Manutenção Corretiva\n",
      "Ordem 40005004305 - Manutenção Preditiva\n",
      "Ordem 20067802 - Manutenção Preventiva\n",
      "Ordem 3030356750 - Manutenção Corretiva\n",
      "Ordem 40005005675 - Manutenção Preditiva\n",
      "Ordem 3030304050 - Manutenção Corretiva\n",
      "Ordem 24505004305 - Manutenção Preventiva\n",
      "Ordem 30067802 - Manutenção Corretiva\n",
      "Ordem 4030356750 - Manutenção Preditiva\n"
     ]
    }
   ],
   "source": [
    "ordens = ['20010102', '3030304050', '40005004305','20067802', '3030356750', '40005005675', '3030304050', '24505004305', '30067802', '4030356750']\n",
    "\n",
    "for ordem in ordens:\n",
    "    if ordem[0]=='2':\n",
    "        print(f'Ordem {ordem} - Manutenção Preventiva')\n",
    "    elif ordem[0]=='3':\n",
    "        print(f'Ordem {ordem} - Manutenção Corretiva')\n",
    "    else:\n",
    "        print(f'Ordem {ordem} - Manutenção Preditiva')"
   ]
  }
 ],
 "metadata": {
  "kernelspec": {
   "display_name": "Python 3.10.5 64-bit",
   "language": "python",
   "name": "python3"
  },
  "language_info": {
   "codemirror_mode": {
    "name": "ipython",
    "version": 3
   },
   "file_extension": ".py",
   "mimetype": "text/x-python",
   "name": "python",
   "nbconvert_exporter": "python",
   "pygments_lexer": "ipython3",
   "version": "3.10.5"
  },
  "orig_nbformat": 4,
  "vscode": {
   "interpreter": {
    "hash": "686f36e0ee8180f660a917104ca3d2973d523d8f7247557eb6e6b71a088067da"
   }
  }
 },
 "nbformat": 4,
 "nbformat_minor": 2
}
