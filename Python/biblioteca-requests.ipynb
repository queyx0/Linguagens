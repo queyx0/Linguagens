{
 "cells": [
  {
   "cell_type": "markdown",
   "metadata": {},
   "source": [
    "# MÉTODOS DE REQUESTS EM BIBLITOECA/API's"
   ]
  },
  {
   "cell_type": "markdown",
   "metadata": {},
   "source": [
    "## Pegar informações - GET"
   ]
  },
  {
   "cell_type": "code",
   "execution_count": 9,
   "metadata": {},
   "outputs": [
    {
     "name": "stdout",
     "output_type": "stream",
     "text": [
      "{'Usuario 1': {'Idade': 23, 'Nome ': 'Antonio', 'Sobrenome': 'Moreira'}, 'Usuario 2': {'Idade': 32, 'Nome': 'Garcia', 'Sobrenome': 'Moreira'}}\n"
     ]
    }
   ],
   "source": [
    "import requests\n",
    "\n",
    "requisicao = requests.get('https://estudo-para-request-api-s-default-rtdb.firebaseio.com/.json')\n",
    "requisicao = requisicao.json()\n",
    "print(requisicao)"
   ]
  },
  {
   "cell_type": "markdown",
   "metadata": {},
   "source": [
    "## Criar informação - POST"
   ]
  },
  {
   "cell_type": "code",
   "execution_count": 19,
   "metadata": {},
   "outputs": [
    {
     "name": "stdout",
     "output_type": "stream",
     "text": [
      "<Response [200]>\n",
      "{'name': '-N8Pk780S8ZYC-fb3RKr'}\n"
     ]
    }
   ],
   "source": [
    "informacoes = '{\"Nome\": \"Queixo\", \"Sobrenome\": \"Rubro\", \"Idade\": \"66\"}'\n",
    "\n",
    "requisicao = requests.post('https://estudo-para-request-api-s-default-rtdb.firebaseio.com/.json', data=informacoes)\n",
    "print(requisicao)\n",
    "print(requisicao.json())"
   ]
  },
  {
   "cell_type": "markdown",
   "metadata": {},
   "source": [
    "## Atualizar informação - PATCH"
   ]
  },
  {
   "cell_type": "code",
   "execution_count": 20,
   "metadata": {},
   "outputs": [
    {
     "name": "stdout",
     "output_type": "stream",
     "text": [
      "<Response [200]>\n",
      "{'Sobrenome': 'Rubrissimo'}\n"
     ]
    }
   ],
   "source": [
    "informacoes = '{\"Sobrenome\": \"Rubrissimo\"}'\n",
    "\n",
    "requisicao = requests.patch('https://estudo-para-request-api-s-default-rtdb.firebaseio.com/-N8Pk780S8ZYC-fb3RKr.json', data=informacoes)\n",
    "print(requisicao)\n",
    "print(requisicao.json())"
   ]
  },
  {
   "cell_type": "markdown",
   "metadata": {},
   "source": [
    "## Deletar informação - DELETE"
   ]
  },
  {
   "cell_type": "code",
   "execution_count": 18,
   "metadata": {},
   "outputs": [],
   "source": [
    "requisicao = requests.delete('https://estudo-para-request-api-s-default-rtdb.firebaseio.com/-N8Pigvi2NGpeLcPmbeM.json')"
   ]
  }
 ],
 "metadata": {
  "kernelspec": {
   "display_name": "Python 3.10.5 64-bit",
   "language": "python",
   "name": "python3"
  },
  "language_info": {
   "codemirror_mode": {
    "name": "ipython",
    "version": 3
   },
   "file_extension": ".py",
   "mimetype": "text/x-python",
   "name": "python",
   "nbconvert_exporter": "python",
   "pygments_lexer": "ipython3",
   "version": "3.10.5"
  },
  "orig_nbformat": 4,
  "vscode": {
   "interpreter": {
    "hash": "686f36e0ee8180f660a917104ca3d2973d523d8f7247557eb6e6b71a088067da"
   }
  }
 },
 "nbformat": 4,
 "nbformat_minor": 2
}
