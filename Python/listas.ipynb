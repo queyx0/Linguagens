{
 "cells": [
  {
   "cell_type": "markdown",
   "metadata": {},
   "source": [
    "# Listas em Python (métodos)"
   ]
  },
  {
   "cell_type": "markdown",
   "metadata": {},
   "source": [
    "- users = [elem1, elem2, elem3] -> Criação de uma lista\n",
    "- users[num] -> Pegar o elemento na posição num\n",
    "- users[num] = 'elemx' -> Alterar um objeto\n",
    "- users.append(elemX) -> Adcionar um objeto no final da lista\n",
    "- users.insert(num, elemX) -> Adcionar um objeto em um local especifico da lista\n",
    "- del users[num] -> Excluir um  objeto pela sua posição\n",
    "- users.remove(elemX) -> Excluir um objetvo pelo seu nome própio\n",
    "- new_user = users.pop(elemX ou num) -> Remove um elemento para uma nova variavel\n",
    "- len(users) -> Retorna quantos elementos tem a lista, seu tamanho\n",
    "- users.reverse() -> Inverte a ordem da lista\n",
    "- users.sort() -> Deixa em ordem alfabética"
   ]
  },
  {
   "cell_type": "markdown",
   "metadata": {},
   "source": [
    "# Listas em Python (explicação)"
   ]
  },
  {
   "cell_type": "markdown",
   "metadata": {},
   "source": [
    "- Criando uma lista"
   ]
  },
  {
   "cell_type": "code",
   "execution_count": 44,
   "metadata": {},
   "outputs": [
    {
     "name": "stdout",
     "output_type": "stream",
     "text": [
      "['bananas', 'maça', 'laranja']\n"
     ]
    }
   ],
   "source": [
    "lista_compras = ['bananas', 'maça', 'laranja']\n",
    "print(lista_compras)"
   ]
  },
  {
   "cell_type": "markdown",
   "metadata": {},
   "source": [
    "- Localizando um objeto dentro da lista"
   ]
  },
  {
   "cell_type": "raw",
   "metadata": {},
   "source": [
    "['bananas', 'maça', 'laranja']\n",
    "     0         1        2"
   ]
  },
  {
   "cell_type": "code",
   "execution_count": 45,
   "metadata": {},
   "outputs": [
    {
     "name": "stdout",
     "output_type": "stream",
     "text": [
      "maça\n"
     ]
    }
   ],
   "source": [
    "print(lista_compras[1])"
   ]
  },
  {
   "cell_type": "markdown",
   "metadata": {},
   "source": [
    "- Adicionando objeto no final da lista"
   ]
  },
  {
   "cell_type": "code",
   "execution_count": 46,
   "metadata": {},
   "outputs": [
    {
     "name": "stdout",
     "output_type": "stream",
     "text": [
      "['bananas', 'maça', 'laranja', 'beterraba']\n"
     ]
    }
   ],
   "source": [
    "lista_compras.append('beterraba')\n",
    "print(lista_compras)"
   ]
  },
  {
   "cell_type": "markdown",
   "metadata": {},
   "source": [
    "- Adicionando objeto em um local especifico da lista"
   ]
  },
  {
   "cell_type": "code",
   "execution_count": 47,
   "metadata": {},
   "outputs": [
    {
     "name": "stdout",
     "output_type": "stream",
     "text": [
      "['bananas', 'chocolate', 'maça', 'laranja', 'beterraba']\n"
     ]
    }
   ],
   "source": [
    "lista_compras.insert(1, 'chocolate')\n",
    "print(lista_compras)"
   ]
  },
  {
   "cell_type": "markdown",
   "metadata": {},
   "source": [
    "- Apagar objeto da lista pela posição"
   ]
  },
  {
   "cell_type": "code",
   "execution_count": 48,
   "metadata": {},
   "outputs": [
    {
     "name": "stdout",
     "output_type": "stream",
     "text": [
      "['bananas', 'chocolate', 'maça', 'laranja']\n"
     ]
    }
   ],
   "source": [
    "del lista_compras[4]\n",
    "print(lista_compras)"
   ]
  },
  {
   "cell_type": "markdown",
   "metadata": {},
   "source": [
    "- Apagar objeto pelo nome"
   ]
  },
  {
   "cell_type": "code",
   "execution_count": 49,
   "metadata": {},
   "outputs": [
    {
     "name": "stdout",
     "output_type": "stream",
     "text": [
      "['bananas', 'maça', 'laranja']\n"
     ]
    }
   ],
   "source": [
    "lista_compras.remove('chocolate')\n",
    "print(lista_compras)"
   ]
  },
  {
   "cell_type": "code",
   "execution_count": 50,
   "metadata": {},
   "outputs": [],
   "source": [
    "lista_compras.append('carro')"
   ]
  },
  {
   "cell_type": "markdown",
   "metadata": {},
   "source": [
    "- Retirar um objeto de uma lista e colocar em outra"
   ]
  },
  {
   "cell_type": "code",
   "execution_count": 51,
   "metadata": {},
   "outputs": [
    {
     "name": "stdout",
     "output_type": "stream",
     "text": [
      "carro\n",
      "['bananas', 'maça', 'laranja']\n",
      "['carro']\n"
     ]
    }
   ],
   "source": [
    "lista_sonhos = []\n",
    "\n",
    "sonho = lista_compras.pop(3)\n",
    "print(sonho)\n",
    "lista_sonhos.append(sonho)\n",
    "\n",
    "print(lista_compras)\n",
    "print(lista_sonhos)"
   ]
  },
  {
   "cell_type": "markdown",
   "metadata": {},
   "source": [
    "- Criando uma lista TO DO, com uma interação com o usuario para adicionar objetos"
   ]
  },
  {
   "cell_type": "code",
   "execution_count": 57,
   "metadata": {},
   "outputs": [],
   "source": [
    "tarefas = []\n",
    "\n",
    "tarefa = input('Insira uma tarefa')\n",
    "tarefas.append(tarefa)\n"
   ]
  },
  {
   "cell_type": "code",
   "execution_count": 60,
   "metadata": {},
   "outputs": [
    {
     "name": "stdout",
     "output_type": "stream",
     "text": [
      "['gremioo', 'aoaoaoaooaa', 'ufaaaaa', 'meeeee', 'socoroooo', '']\n"
     ]
    }
   ],
   "source": [
    "print(tarefas)"
   ]
  },
  {
   "cell_type": "code",
   "execution_count": 65,
   "metadata": {},
   "outputs": [
    {
     "name": "stdout",
     "output_type": "stream",
     "text": [
      "['gremioo', 'aoaoaoaooaa', 'ufaaaaa', 'meeeee', 'socoroooo']\n"
     ]
    }
   ],
   "source": [
    "while tarefa!='':\n",
    "    tarefa = input('Insira uma tarefa')\n",
    "    tarefas.append(tarefa)\n",
    "\n",
    "print(tarefas[0: -1])"
   ]
  },
  {
   "cell_type": "markdown",
   "metadata": {},
   "source": [
    "- Vinculando objetos de listas com Tupla"
   ]
  },
  {
   "cell_type": "code",
   "execution_count": 69,
   "metadata": {},
   "outputs": [
    {
     "name": "stdout",
     "output_type": "stream",
     "text": [
      "[('CR', 50000), ('RJ', 10000), ('SP', 20000)]\n"
     ]
    }
   ],
   "source": [
    "lojas = ['RJ', 'SP', 'CR']\n",
    "faturamento = [10000, 20000, 50000]\n",
    "\n",
    "resultados = []\n",
    "\n",
    "for i in range(3):\n",
    "    tupla = (lojas[i-1], faturamento[i-1])\n",
    "    resultados.append(tupla)\n",
    "\n",
    "print(resultados)"
   ]
  }
 ],
 "metadata": {
  "kernelspec": {
   "display_name": "Python 3.10.5 64-bit",
   "language": "python",
   "name": "python3"
  },
  "language_info": {
   "codemirror_mode": {
    "name": "ipython",
    "version": 3
   },
   "file_extension": ".py",
   "mimetype": "text/x-python",
   "name": "python",
   "nbconvert_exporter": "python",
   "pygments_lexer": "ipython3",
   "version": "3.10.5"
  },
  "orig_nbformat": 4,
  "vscode": {
   "interpreter": {
    "hash": "686f36e0ee8180f660a917104ca3d2973d523d8f7247557eb6e6b71a088067da"
   }
  }
 },
 "nbformat": 4,
 "nbformat_minor": 2
}
